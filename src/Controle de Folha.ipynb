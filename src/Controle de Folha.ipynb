{
 "cells": [
  {
   "cell_type": "code",
   "execution_count": null,
   "metadata": {},
   "outputs": [],
   "source": [
    "\"\"\"\n",
    "Controle de Pagamentos de Pessoal\n",
    "\n",
    "Este sistema realiza a análise e processamento de dados de remuneração do sistema SIAPE, bases corporativas e arquivos de dados. Ele foi produzido pelo \n",
    "Ten-Cel. QOBM/Comb. Igor MUNIZ da Silva como produto do trabalho monográfico do Curso de Altos Estudos para Oficiais Combatentes do ano de 2023 (CAEO/Comb - 2023), \n",
    "realizado no Centro de Estudos de Política, Estratégia e Doutrina (CEPED) do Corpo de Bombeiros Militar do Distrito Federal\n",
    "\n",
    "As variáveis e constantes definidas no início do código especificam os diretórios, mês de trabalho e constantes de validação necessários para o processamento dos dados.\n",
    "\n",
    "O arquivo de dados de pagamento deve ser extraído do sistema DW SIAPE filtrando o mês que se deseja apurar.  Deve ser composto, pelo menos, pelos seguintes dados:\n",
    "- Colunas de atributos: CPF SERVIDOR;VÍNCULO SERVIDOR;CARGO;NOME SERVIDOR;SITUAÇÃO FUNCIONAL;NÍVEL FUNÇÃO;AD TEMPO SERV;UORG;DIA OCOR INGR ÓRGÃO EV;MÊS;COD RUBRICA;RUBRICA;\n",
    "SEQUENCIAL RUBRICA;PRAZO RUBRICA\n",
    "- Colunas de métricas: RENDIM;DESCONTO\n",
    "\n",
    "\n",
    "Os principais passos do código são os seguintes:\n",
    "\n",
    "1. Extração das bases de dados (SIAPE, GECOPE, GEDEP, GSVWeb).\n",
    "2. Formatação e validação dos dados, incluindo a correção do número de CPF quando necessário.\n",
    "3. Criação de uma tabela remuneratória referente ao mês especificado.\n",
    "4. Manipulação e transformação dos dados de acordo com as necessidades.\n",
    "5. Abordagem geral, de fora pra dentro, identificando os valores que estão lançados em conformidade os dados cadastrais.\n",
    "6. Abordagem pontual, de dentro pra fora, identificando lançamentos atípicos (outliers).\n",
    "6. Geração de um Relatório final contendo as rubricas do mês e a análise dos valores.\n",
    "\n",
    "Para cada trecho de código, foram fornecidos comentários explicativos para melhor compreensão das etapas realizadas.\n",
    "\n",
    "Certifique-se de que os diretórios, arquivos e dados de entrada estejam disponíveis conforme especificado nas variáveis definidas no início do código para um processamento correto.\n",
    "\n",
    "© Igor MUNIZ da Silva / CBMDF- 2023\n",
    "\"\"\""
   ]
  },
  {
   "cell_type": "markdown",
   "metadata": {},
   "source": [
    "## Inicialização - Informação de dados do mês de trabalho para o processamento das informações"
   ]
  },
  {
   "cell_type": "code",
   "execution_count": null,
   "metadata": {},
   "outputs": [],
   "source": [
    "# Mês de trabalho específico no formato \"YYYYMM\"\n",
    "MES_REFERENCIA = \"202309\"\n",
    "\n",
    "# A variável 'MES_REFERENCIA' indica o mês específico de trabalho no formato \"YYYYMM\".\n",
    "# Essa informação é crucial para direcionar as consultas aos dados referentes ao período desejado.\n",
    "\n",
    "# Datas de referência para início e término da folha de pagamento\n",
    "DATA_REFERENCIA_INICIO_FOLHA = \"2023-08-21\"\n",
    "DATA_REFERENCIA_TERMINO_FOLHA = \"2023-09-18\"\n",
    "\n",
    "# As variáveis 'DATA_REFERENCIA_INICIO_FOLHA' e 'DATA_REFERENCIA_TERMINO_FOLHA' estabelecem os limites temporais\n",
    "# para o início e término da folha de pagamento, respectivamente. Essas datas são cruciais para a identificação do\n",
    "# intervalo de dados a ser analisado e processado durante a execução do código."
   ]
  },
  {
   "cell_type": "code",
   "execution_count": null,
   "metadata": {},
   "outputs": [],
   "source": [
    "# Importação de bibliotecas\n",
    "\n",
    "# A biblioteca 'sqlalchemy' é essencial para a interação programática com bancos de dados SQL.\n",
    "# Neste contexto, será utilizada para criar uma conexão com o banco de dados, permitindo a\n",
    "# manipulação eficiente e segura dos dados.\n",
    "from sqlalchemy import create_engine\n",
    "\n",
    "# A biblioteca 'os' fornece funcionalidades para interagir com o sistema operacional.\n",
    "# Sua utilização neste código é principalmente para manipulação de diretórios e arquivos,\n",
    "# possibilitando operações como a leitura de arquivos de configuração.\n",
    "import os\n",
    "\n",
    "# A biblioteca 'pandas' é uma ferramenta poderosa para análise e manipulação de dados em Python.\n",
    "# Seu uso neste código implica a criação e manipulação de estruturas de dados tabulares,\n",
    "# como DataFrames, facilitando a análise dos dados provenientes do banco de dados.\n",
    "import pandas as pd\n",
    "\n",
    "# A biblioteca 'numpy' é frequentemente utilizada em conjunto com o 'pandas' para operações\n",
    "# matemáticas eficientes em arrays e matrizes.\n",
    "import numpy as np\n",
    "\n",
    "# A biblioteca 'matplotlib.pyplot' é empregada na criação de gráficos e visualizações de dados.\n",
    "# Sua presença sugere a possibilidade de visualizações que complementam a análise de dados\n",
    "# realizada ao longo do código.\n",
    "import matplotlib.pyplot as plt\n",
    "\n",
    "# A biblioteca 'seaborn' é uma extensão estilizada do 'matplotlib', focada na criação de gráficos\n",
    "# estatísticos atraentes e informativos, podendo ser utilizada para melhorar a apresentação visual\n",
    "# das análises realizadas.\n",
    "import seaborn as sns\n",
    "\n",
    "# A biblioteca 'dotenv' facilita o carregamento de variáveis de ambiente a partir de um arquivo \".env\".\n",
    "# Neste contexto, sua utilização sugere a presença de variáveis sensíveis, como credenciais de banco de\n",
    "# dados, que são carregadas de maneira segura.\n",
    "from dotenv import load_dotenv"
   ]
  },
  {
   "cell_type": "code",
   "execution_count": null,
   "metadata": {},
   "outputs": [],
   "source": [
    "# A função 'load_dotenv()' carrega as variáveis de ambiente a partir de um arquivo \".env\"\n",
    "# no diretório atual, o que permite acessar configurações e credenciais de maneira segura e\n",
    "# separada do código.\n",
    "load_dotenv()"
   ]
  },
  {
   "cell_type": "markdown",
   "metadata": {},
   "source": [
    "## 1. Extração"
   ]
  },
  {
   "cell_type": "markdown",
   "metadata": {},
   "source": [
    "### 1.1 Bases SIAPE"
   ]
  },
  {
   "cell_type": "code",
   "execution_count": null,
   "metadata": {},
   "outputs": [],
   "source": [
    "# Diretório raiz onde os arquivos CSV estão localizados\n",
    "ROOT_DIR = \"./dados/csv\"\n",
    "\n",
    "# A variável 'ROOT_DIR' especifica o diretório raiz onde os arquivos CSV necessários para a execução do código estão armazenados.\n",
    "# Esta estrutura facilita a organização e acesso eficiente aos dados, contribuindo para a robustez e modularidade do sistema.\n",
    "\n",
    "# Diretório específico para arquivos de remuneração do SIAPE\n",
    "SIAPE_DIR = \"remuneracao/dwsiape\"\n",
    "\n",
    "# A variável 'SIAPE_DIR' representa o diretório específico dentro do diretório raiz, onde os arquivos relacionados à remuneração\n",
    "# do SIAPE (Sistema Integrado de Administração de Pessoal) são encontrados. Essa estrutura de diretórios sugere uma organização\n",
    "# cuidadosa dos dados por categorias, simplificando a localização e manipulação dos arquivos durante a execução do código.\n",
    "\n",
    "# Dia limite para cálculo de ATS\n",
    "LIMITE_ATS = pd.to_datetime(\"05/09/2001\", dayfirst=True)\n",
    "\n",
    "# A constante 'LIMITE_ATS' é definida como a data limite para o cálculo do Adicional por Tempo de Serviço (ATS).\n",
    "# O valor está formatado utilizando a biblioteca 'pandas' para garantir coerência nas comparações de data ao longo do código.\n",
    "\n",
    "# Constante para validação de tipo de dados de pensionista\n",
    "PENSIONISTA_VALIDATION = \"CPF BENEFICIÁRIO\"\n",
    "\n",
    "# A constante 'PENSIONISTA_VALIDATION' é utilizada para validar o tipo de dados, indicando se o registro no arquivo se refere a\n",
    "# um beneficiário de pensão. Essa clareza na identificação dos tipos de dados contribui para a precisão e consistência nas operações realizadas.\n",
    "\n",
    "# Constante para validação de tipo de dados de servidor\n",
    "SERVIDOR_VALIDATION = \"CPF SERVIDOR\"\n",
    "\n",
    "# Similar à constante anterior, 'SERVIDOR_VALIDATION' é empregada para validar o tipo de dados, especificamente indicando registros\n",
    "# relacionados a servidores. A utilização dessas constantes promove a robustez do código ao fornecer uma base sólida para a interpretação\n",
    "# dos dados ao longo da execução do programa."
   ]
  },
  {
   "cell_type": "code",
   "execution_count": null,
   "metadata": {},
   "outputs": [],
   "source": [
    "# Combina os diretórios para obter o caminho completo para os arquivos de trilha de auditoria\n",
    "FULL_DIR = os.path.join(ROOT_DIR, SIAPE_DIR, MES_REFERENCIA)\n",
    "\n",
    "# A variável 'FULL_DIR' é gerada combinando os diretórios específicos, resultando no caminho completo para os arquivos de trilha de auditoria.\n",
    "# Essa abordagem organizada e modular facilita o acesso aos dados necessários, contribuindo para a eficiência e clareza do código.\n",
    "\n",
    "# Lista os arquivos no diretório com a extensão \".txt\"\n",
    "files = [arquivo for arquivo in os.listdir(FULL_DIR) if arquivo.endswith(\".txt\")]\n",
    "\n",
    "# A lista 'files' é gerada ao listar todos os arquivos no diretório 'FULL_DIR' com a extensão \".txt\".\n",
    "# Essa lista proporciona uma visão rápida e dinâmica dos arquivos disponíveis para processamento.\n",
    "\n",
    "# Itera sobre cada arquivo encontrado\n",
    "for file in files:\n",
    "    # Cria o caminho completo para o arquivo atual\n",
    "    file_path = os.path.join(ROOT_DIR, SIAPE_DIR, MES_REFERENCIA, file)\n",
    "\n",
    "    # Lê o arquivo CSV como um DataFrame, especificando delimitador, separador decimal e codificação\n",
    "    dataframe = pd.read_csv(\n",
    "        file_path, delimiter=\";\", decimal=\",\", thousands=\".\", encoding=\"utf-8\"\n",
    "    )\n",
    "\n",
    "    # Converte a coluna 'COD RUBRICA' para o tipo de dados string (str)\n",
    "    dataframe[\"COD RUBRICA\"] = dataframe[\"COD RUBRICA\"].astype(str)\n",
    "\n",
    "    # Verifica se o DataFrame contém a coluna de validação de servidor\n",
    "    if SERVIDOR_VALIDATION in dataframe.columns:\n",
    "        # Se sim, atribui o DataFrame atual a uma variável correspondente\n",
    "        df_siape = dataframe\n",
    "        # Formata os CPFs no DataFrame para que tenham 11 dígitos\n",
    "        df_siape[\"CPF SERVIDOR\"] = df_siape[\"CPF SERVIDOR\"].astype(str).str.zfill(11)\n",
    "    # Verifica se o DataFrame contém a coluna de validação de pensionista\n",
    "    elif PENSIONISTA_VALIDATION in dataframe.columns:\n",
    "        # Se sim, atribui o DataFrame atual a uma variável correspondente\n",
    "        df_siape = dataframe\n",
    "        # Formata os CPFs no DataFrame para que tenham 11 dígitos\n",
    "        df_siape[\"CPF BENEFICIÁRIO\"] = (\n",
    "            df_siape[\"CPF BENEFICIÁRIO\"].astype(str).str.zfill(11)\n",
    "        )\n",
    "    else:\n",
    "        # Se não for reconhecido como servidor ou pensionista, lança uma exceção\n",
    "        raise TypeError(\"Tabela não reconhecidos\")"
   ]
  },
  {
   "cell_type": "markdown",
   "metadata": {},
   "source": [
    "### 1.2 Tabela Remuneratória"
   ]
  },
  {
   "cell_type": "code",
   "execution_count": null,
   "metadata": {
    "scrolled": true
   },
   "outputs": [],
   "source": [
    "# Diretório onde os dados de remuneração estão localizados\n",
    "REMUNERACAO_DIR = \"remuneracao\"\n",
    "# Nome do arquivo CSV de remuneração\n",
    "REMUNERACAO_FILENAME = 'remuneracao.csv'\n",
    "\n",
    "# Caminho completo para o arquivo CSV de remuneração\n",
    "csv_filepath = os.path.join(ROOT_DIR, REMUNERACAO_DIR, REMUNERACAO_FILENAME)\n",
    "\n",
    "# Lê o arquivo CSV diretamente do caminho especificado\n",
    "df = pd.read_csv(csv_filepath, delimiter=\",\", decimal=\",\", thousands=\".\", encoding='utf-8')\n",
    "\n",
    "def create_tabela_remuneracao(dataframe, MES_REFERENCIA=MES_REFERENCIA):\n",
    "    '''\n",
    "    create_tabela_remuneracao(dataframe, MES_REFERENCIA = MES_REFERENCIA)\n",
    "\n",
    "    Cria a tabela remuneratória do mês informado.\n",
    "    \n",
    "    Argumentos:\n",
    "    dataframe:  DataFrame gerado a partir da leitura direta do arquivo CSV de dados remuneratórios.\n",
    "    MES_REFERENCIA: Mês de referência para o qual a tabela remuneratória será criada.\n",
    "\n",
    "    Retorna:\n",
    "    Um DataFrame contendo a tabela remuneratória para o mês especificado.\n",
    "    '''\n",
    "\n",
    "    # Converte a coluna 'Inicio' para objetos datetime (formato day/month/year)\n",
    "    dataframe['Inicio'] = pd.to_datetime(dataframe['Inicio'], dayfirst=True)\n",
    "    dataframe['Rubrica'] = dataframe['Rubrica'].astype(str)\n",
    "\n",
    "    # Encontra o índice da maior data anterior ou igual ao mês de trabalho para cada grupo de \"Rubrica\"\n",
    "    atual = dataframe[pd.to_datetime(dataframe['Inicio'], format='%Y%m') <=\n",
    "                      pd.to_datetime(MES_REFERENCIA, format='%Y%m') + pd.offsets.MonthEnd()].groupby('Rubrica')['Inicio'].idxmax()\n",
    "\n",
    "    # Seleciona os valores correspondentes usando loc com MultiIndex\n",
    "    df_tabela_remuneracao_atual = dataframe.loc[atual]\n",
    "\n",
    "    # Calcula o valor proporcional quando há mudança salarial no mês\n",
    "    month_calc_condition = df_tabela_remuneracao_atual[\"Inicio\"].dt.to_period('M') != pd.to_datetime(MES_REFERENCIA, format='%Y%m').to_period('M')\n",
    "    end_period = 30 - df_tabela_remuneracao_atual[\"Inicio\"].dt.day + 1\n",
    "    begin_period = df_tabela_remuneracao_atual[\"Inicio\"].dt.day - 1\n",
    "\n",
    "    end_value = dataframe.loc[atual].iloc[:, 2:].multiply(end_period / 30, axis=0)\n",
    "    begin_value = dataframe.loc[atual - 1].iloc[:, 2:].set_axis(dataframe.loc[atual].iloc[:, 2:].index).multiply(begin_period / 30, axis=0)\n",
    "    final_value = begin_value + end_value\n",
    "\n",
    "    df_tabela_remuneracao_atual.iloc[:, 2:] = df_tabela_remuneracao_atual.where(month_calc_condition, final_value).iloc[:, 2:].round(2)\n",
    "    df_tabela_remuneracao_atual = df_tabela_remuneracao_atual.drop('Inicio', axis=1).set_index('Rubrica')\n",
    "    df_tabela_remuneracao_atual = df_tabela_remuneracao_atual.rename_axis(\"Cargo\", axis=1)\n",
    "    \n",
    "    return df_tabela_remuneracao_atual\n",
    "\n",
    "# Cria a tabela remuneratória para o mês especificado\n",
    "df_tabela_remuneracao_atual = create_tabela_remuneracao(df)"
   ]
  },
  {
   "cell_type": "code",
   "execution_count": null,
   "metadata": {},
   "outputs": [],
   "source": [
    "df_tabela_remuneracao_atual"
   ]
  },
  {
   "cell_type": "markdown",
   "metadata": {},
   "source": [
    "### 1.3 Bases Corporativas"
   ]
  },
  {
   "cell_type": "code",
   "execution_count": null,
   "metadata": {},
   "outputs": [],
   "source": [
    "# Leitura das variáveis de ambiente\n",
    "user = os.environ[\"DB_USERNAME\"]\n",
    "password = os.environ[\"DB_PASSWORD\"]\n",
    "port = os.environ[\"DB_PORT\"]\n",
    "host = os.environ[\"DB_HOST\"]\n",
    "dbname = os.environ[\"DB_NAME\"]"
   ]
  },
  {
   "cell_type": "code",
   "execution_count": null,
   "metadata": {},
   "outputs": [],
   "source": [
    "def get_postgres_dataframe(\n",
    "    schema=None, view=None, columns=None, condition=None, raw_query=None\n",
    "):\n",
    "    \"\"\"\n",
    "    Esta função é utilizada para recuperar dados de uma tabela em um banco de dados PostgreSQL e retorná-los como um DataFrame do Pandas.\n",
    "\n",
    "    Parâmetros:\n",
    "    - schema (str): O nome do esquema (schema) que contém a tabela desejada.\n",
    "    - view (str): O nome da tabela ou visão (view) a partir da qual os dados serão recuperados.\n",
    "    - columns (list, opcional): Uma lista de nomes de colunas a serem selecionados na consulta SQL. Se não for fornecida, todas as colunas serão selecionadas.\n",
    "    - condition (str, opcional): Uma condição adicional a ser aplicada à consulta SQL, filtrando os resultados conforme necessário.\n",
    "    - raw_query (str, opcional): Uma consulta SQL completa que substituirá a construção automática com base nos outros parâmetros.\n",
    "\n",
    "    Retorno:\n",
    "    - df (Pandas DataFrame): Um DataFrame contendo os dados recuperados da tabela especificada.\n",
    "\n",
    "    A função constrói uma consulta SQL usando os parâmetros fornecidos, estabelece uma conexão com o banco de dados PostgreSQL especificado,\n",
    "    executa a consulta e cria um DataFrame com os resultados. Após a conclusão da operação, a conexão com o banco de dados é fechada\n",
    "    para liberar recursos.\n",
    "\n",
    "    Exemplo de uso:\n",
    "    df = get_postgres_dataframe(schema=\"public\", view=\"tabela_exemplo\", columns=[\"coluna1\", \"coluna2\"], condition=\"coluna1 > 100\")\n",
    "    \"\"\"\n",
    "    if not columns:\n",
    "        columns_list = \"*\"\n",
    "    else:\n",
    "        columns_list = \", \".join(columns)\n",
    "\n",
    "    # Substitua com suas informações de conexão corretas, incluindo a porta\n",
    "    db_uri = f\"postgresql://{user}:{password}@{host}:{port}/{dbname}\"\n",
    "\n",
    "    # Crie uma conexão usando o SQLAlchemy\n",
    "    engine = create_engine(db_uri)\n",
    "\n",
    "    # Crie a consulta SQL\n",
    "    if raw_query:\n",
    "        query = raw_query\n",
    "    else:\n",
    "        query = f\"SELECT {columns_list} FROM {schema}.{view}{' WHERE ' + condition if condition else ''};\"\n",
    "\n",
    "    # Execute a consulta e crie um DataFrame com os resultados\n",
    "    df = pd.read_sql(query, engine)\n",
    "\n",
    "    # Feche a conexão com o SQLAlchemy para liberar recursos\n",
    "    engine.dispose()\n",
    "\n",
    "    return df"
   ]
  },
  {
   "cell_type": "markdown",
   "metadata": {},
   "source": [
    "##### 1.3.1 GECOPE"
   ]
  },
  {
   "cell_type": "code",
   "execution_count": null,
   "metadata": {},
   "outputs": [],
   "source": [
    "# Seleção das colunas do sistema GECOPE que serão utilizadas na análise\n",
    "def gecope_raw_query(end=DATA_REFERENCIA_TERMINO_FOLHA):\n",
    "    \"\"\"\n",
    "    Gera uma consulta SQL para obter dados relevantes do sistema GECOPE até a data especificada.\n",
    "\n",
    "    Parâmetros:\n",
    "    - end (str): A data de término para a análise. Define a última data de promoção a ser considerada.\n",
    "\n",
    "    Retorno:\n",
    "    - str: Uma consulta SQL formatada para recuperar dados específicos do sistema GECOPE.\n",
    "    \"\"\"\n",
    "    return f\"\"\"\n",
    "        WITH RankedPromocoes AS (\n",
    "            SELECT\n",
    "                tp.num_cpf_pessoa,\n",
    "                ts.cod_pessoa_servidor,\n",
    "                tpg.dsc_posto_graduacao,\n",
    "                tp.nom_completo_pessoa,\n",
    "                ts.vlr_identificacao_unica,\n",
    "                tps.dat_promocao_servidor,\n",
    "                cod_controle_status_servidor_tipo,\n",
    "                tl.cod_situacao,\n",
    "                ROW_NUMBER() OVER (PARTITION BY tp.num_cpf_pessoa ORDER BY tps.dat_promocao_servidor DESC) AS rank_posto_graduacao\n",
    "            FROM\n",
    "                rh.tb_promocao_servidor tps\n",
    "            JOIN\n",
    "                corporativo.tb_pessoa tp ON tps.cod_pessoa_servidor = tp.cod_pessoa\n",
    "            JOIN \n",
    "                rh.tb_lotacao tl ON tps.cod_pessoa_servidor = tl.cod_pessoa_servidor\n",
    "            JOIN\n",
    "                rh.tb_servidor ts ON tps.cod_pessoa_servidor = ts.cod_pessoa_servidor\n",
    "            JOIN\n",
    "                rh.tb_posto_graduacao tpg ON tps.cod_posto_graduacao = tpg.cod_posto_graduacao\n",
    "            WHERE\n",
    "                (ts.cod_controle_status_servidor_tipo IS NULL OR ts.cod_controle_status_servidor_tipo IN (0, 1, 2, 3, 13, 14))\n",
    "                AND tps.dat_promocao_servidor <= '{end}'\n",
    "        )\n",
    "        SELECT\n",
    "            num_cpf_pessoa,\n",
    "            cod_pessoa_servidor,\n",
    "            dat_promocao_servidor,\n",
    "            dsc_posto_graduacao,\n",
    "            nom_completo_pessoa,\n",
    "            vlr_identificacao_unica,\n",
    "            cod_controle_status_servidor_tipo,\n",
    "            cod_situacao\n",
    "        FROM\n",
    "            RankedPromocoes\n",
    "        WHERE\n",
    "            rank_posto_graduacao = 1\n",
    "        ORDER BY\n",
    "            num_cpf_pessoa;\n",
    "    \"\"\"\n",
    "\n",
    "\n",
    "# Definindo o Dataframe que receberá os dados do GECOPE\n",
    "df_gecope = get_postgres_dataframe(raw_query=gecope_raw_query())"
   ]
  },
  {
   "cell_type": "markdown",
   "metadata": {},
   "source": [
    "##### 1.3.2 GEDEP"
   ]
  },
  {
   "cell_type": "code",
   "execution_count": null,
   "metadata": {},
   "outputs": [],
   "source": [
    "# Seleção das colunas do sistema GEDEP que serão utilizadas na análise\n",
    "gedep_cols = [\n",
    "    \"dsc_tipo_condicao_dependente\",\n",
    "    \"cod_pessoa_dependente\",\n",
    "    \"dat_nascimento_dependente\",\n",
    "    \"nom_dependente\",\n",
    "    \"num_cpf_dependente\",\n",
    "    \"num_cpf_titular\",\n",
    "    \"dsc_completo_tipo_dependencia\",\n",
    "    \"vlr_percentual_grupo_saude\",\n",
    "    \"flg_renuncia_contribuicao\"\n",
    "]\n",
    "\n",
    "# Definindo o Dataframe que receberá os dados do GECOPE\n",
    "df_gedep = get_postgres_dataframe(\n",
    "    \"gedep\", \"vwm_dependente\", gedep_cols, \"flg_dependente_ativo\"\n",
    ")"
   ]
  },
  {
   "cell_type": "markdown",
   "metadata": {},
   "source": [
    "##### 1.3.3 GSV"
   ]
  },
  {
   "cell_type": "code",
   "execution_count": null,
   "metadata": {},
   "outputs": [],
   "source": [
    "# Seleção das colunas do sistema GEDEP que serão utilizadas na análise\n",
    "def gsv_raw_query(begin, end):\n",
    "    \"\"\"\n",
    "    Gera uma consulta SQL para obter dados relevantes do sistema GSV até as datas especificadas.\n",
    "\n",
    "    Parâmetros:\n",
    "    - begin (str): A data de início para a análise.\n",
    "    - end (str): A data de término para a análise.\n",
    "\n",
    "    Retorno:\n",
    "    - str: Uma consulta SQL formatada para recuperar dados específicos do sistema GSV.\n",
    "    \"\"\"\n",
    "    return f\"\"\"\n",
    "SELECT \n",
    "    presenca.cod_escala_presenca, \n",
    "    presenca.cod_pessoa_servidor::bigint, \n",
    "    prevista.dat_escala_prevista,\n",
    "    prevista.dat_hora_inicio_servico,\n",
    "    prevista.dat_hora_fim_servico,\n",
    "    presenca.dat_hora_ini_presenca, \n",
    "    presenca.dat_hora_fim_presenca, \n",
    "    TO_CHAR(presenca.dat_hora_ini_presenca, 'DD/MM/YYYY HH24:MI:SS') AS data_hora_ini_presenca, \n",
    "    TO_CHAR(presenca.dat_hora_fim_presenca, 'DD/MM/YYYY HH24:MI:SS') AS data_hora_fim_presenca, \n",
    "    presenca.flg_presenca,\n",
    "    presenca.dsc_justificativa_atraso,\n",
    "    presenca.dsc_justificativa_falta,\n",
    "    presenca.cod_motivo_falta,\n",
    "    CURRENT_TIMESTAMP BETWEEN presenca.dat_hora_ini_presenca AND presenca.dat_hora_fim_presenca AS flg_ativa\n",
    "FROM \n",
    "    operacional.tb_escala_presenca presenca, operacional.tb_escala_prevista prevista\n",
    "WHERE \n",
    "    presenca.cod_pessoa_servidor = prevista.cod_pessoa_servidor\n",
    "    AND presenca.flg_bloqueado IS false \n",
    "    AND presenca.dat_servico = prevista.dat_escala_prevista\n",
    "    AND prevista.cod_tipo = 3\n",
    "    AND prevista.dat_escala_prevista BETWEEN '{begin}' AND '{end}'\n",
    "ORDER BY prevista.dat_hora_inicio_servico\n",
    "\"\"\"\n",
    "\n",
    "\n",
    "# Definindo o Dataframe que receberá os dados do GSV\n",
    "df_gsv = get_postgres_dataframe(\n",
    "    raw_query=gsv_raw_query(DATA_REFERENCIA_INICIO_FOLHA, DATA_REFERENCIA_TERMINO_FOLHA)\n",
    ")"
   ]
  },
  {
   "cell_type": "code",
   "execution_count": null,
   "metadata": {},
   "outputs": [],
   "source": [
    "# Calcula a diferença de horas entre a hora de início e término prevista\n",
    "df_gsv[\"horas_prevista\"] = pd.to_datetime(\n",
    "    df_gsv[\"dat_hora_fim_servico\"]\n",
    ") - pd.to_datetime(df_gsv[\"dat_hora_inicio_servico\"])\n",
    "\n",
    "# Calcula a diferença de horas entre a hora de início e término efetiva\n",
    "df_gsv[\"horas_presenca\"] = pd.to_datetime(\n",
    "    df_gsv[\"dat_hora_fim_presenca\"]\n",
    ") - pd.to_datetime(df_gsv[\"dat_hora_ini_presenca\"])\n",
    "\n",
    "# Define como zero as horas de presença para registros onde a presença não foi marcada\n",
    "df_gsv.loc[~df_gsv[\"flg_presenca\"], \"horas_presenca\"] = pd.Timedelta(\"00:00:00\")"
   ]
  },
  {
   "cell_type": "markdown",
   "metadata": {},
   "source": [
    "## 2. Tratamento"
   ]
  },
  {
   "cell_type": "code",
   "execution_count": null,
   "metadata": {},
   "outputs": [],
   "source": [
    "# Cria uma cópia do DataFrame original df_siape e atribui a df_siape_full\n",
    "df_siape_full = df_siape.copy()\n",
    "\n",
    "# Remove o prefixo \"99072-\" da coluna \"VÍNCULO SERVIDOR\"\n",
    "df_siape_full[\"VÍNCULO SERVIDOR\"] = df_siape_full[\"VÍNCULO SERVIDOR\"].apply(\n",
    "    lambda x: x.replace(\"99072-\", \"\")\n",
    ")\n",
    "\n",
    "# Converte as colunas \"NÍVEL FUNÇÃO\" e \"SITUAÇÃO FUNCIONAL\" para o tipo de categoria\n",
    "df_siape_full[[\"NÍVEL FUNÇÃO\", \"SITUAÇÃO FUNCIONAL\"]] = df_siape_full[\n",
    "    [\"NÍVEL FUNÇÃO\", \"SITUAÇÃO FUNCIONAL\"]\n",
    "].astype(\"category\")\n",
    "\n",
    "# Converte a coluna \"DIA OCOR INGR ÓRGÃO EV\" para objetos datetime (formato day/month/year)\n",
    "df_siape_full[\"DIA OCOR INGR ÓRGÃO EV\"] = pd.to_datetime(\n",
    "    df_siape_full[\"DIA OCOR INGR ÓRGÃO EV\"], dayfirst=True\n",
    ")\n",
    "\n",
    "# Calcula o ATS (Adicional de Tempo de Serviço) conforme a data de ingresso\n",
    "df_siape_full[\"ATS CALCULADO\"] = LIMITE_ATS - df_siape_full[\"DIA OCOR INGR ÓRGÃO EV\"]\n",
    "\n",
    "# Trata casos em que o ATS calculado é negativo, atribuindo zero\n",
    "df_siape_full.loc[\n",
    "    df_siape_full[\"ATS CALCULADO\"] < pd.Timedelta(0), \"ATS CALCULADO\"\n",
    "] = pd.Timedelta(0)\n",
    "\n",
    "# Converte o ATS CALCULADO para dias e ajusta para formato de ponto flutuante\n",
    "df_siape_full[\"ATS CALCULADO\"] = (\n",
    "    df_siape_full[\"ATS CALCULADO\"] / pd.Timedelta(days=1)\n",
    ").astype(\"float\") / 365.0\n",
    "\n",
    "# Converte a coluna \"AD TEMPO SERV\" de percentual em string para valor\n",
    "df_siape_full[\"AD TEMPO SERV\"] = (\n",
    "    df_siape_full[\"AD TEMPO SERV\"].str.rstrip(\"%\").astype(\"float\") / 100.0\n",
    ")"
   ]
  },
  {
   "cell_type": "code",
   "execution_count": null,
   "metadata": {},
   "outputs": [],
   "source": [
    "# Cria um DataFrame df_siape_remun contendo colunas relevantes para dados de remuneração do servidor\n",
    "df_siape_remun = df_siape_full[\n",
    "    [\n",
    "        \"CPF SERVIDOR\",\n",
    "        \"COD RUBRICA\",\n",
    "        \"SEQUENCIAL RUBRICA\",\n",
    "        \"PRAZO RUBRICA\",\n",
    "        \"DESCONTO\",\n",
    "        \"RENDIM\",\n",
    "    ]\n",
    "]\n",
    "\n",
    "# Converte as colunas \"DESCONTO\" e \"RENDIM\" para float64 e arredonda para 2 casas decimais\n",
    "df_siape_remun[[\"DESCONTO\", \"RENDIM\"]] = (\n",
    "    df_siape_remun[[\"DESCONTO\", \"RENDIM\"]].astype(\"float64\").round(2)\n",
    ")\n",
    "\n",
    "# Calcula a coluna \"LIQUIDO\" como a diferença entre \"RENDIM\" e \"DESCONTO\"\n",
    "df_siape_remun[\"LIQUIDO\"] = df_siape_remun[\"RENDIM\"] - df_siape_remun[\"DESCONTO\"]\n",
    "\n",
    "# Remove as colunas \"DESCONTO\" e \"RENDIM\"\n",
    "df_siape_remun = df_siape_remun.drop([\"DESCONTO\", \"RENDIM\"], axis=1)\n",
    "\n",
    "# Filtra o DataFrame para excluir Rubricas de Pensão Alimentícia, Depósitos Judiciais, Empréstimos Pessoais e Imposto de Renda\n",
    "df_siape_remun = df_siape_remun[\n",
    "    ~df_siape_remun[\"COD RUBRICA\"].str.match(\"^(97|990|3).*\") == True\n",
    "]\n",
    "\n",
    "# Converte as colunas \"COD RUBRICA\", \"SEQUENCIAL RUBRICA\" e \"PRAZO RUBRICA\" para int64\n",
    "df_siape_remun[[\"COD RUBRICA\", \"SEQUENCIAL RUBRICA\", \"PRAZO RUBRICA\"]] = df_siape_remun[\n",
    "    [\"COD RUBRICA\", \"SEQUENCIAL RUBRICA\", \"PRAZO RUBRICA\"]\n",
    "].astype(\"int64\")\n",
    "\n",
    "# Adiciona colunas \"LANCAMENTO APROVADO\" e \"MOTIVO NAO APROVACAO\" com valores nulos\n",
    "df_siape_remun[\"LANCAMENTO APROVADO\"] = None\n",
    "df_siape_remun[\"MOTIVO NAO APROVACAO\"] = None\n",
    "df_siape_remun[\"OUTLIER IDENTIFICADO\"] = False\n",
    "\n",
    "# Cria um DataFrame df_siape_serv contendo colunas relevantes para dados do servidor\n",
    "df_siape_serv = (\n",
    "    df_siape_full[\n",
    "        [\n",
    "            \"CPF SERVIDOR\",\n",
    "            \"VÍNCULO SERVIDOR\",\n",
    "            \"NOME SERVIDOR\",\n",
    "            \"CARGO\",\n",
    "            \"NÍVEL FUNÇÃO\",\n",
    "            \"SITUAÇÃO FUNCIONAL\",\n",
    "            \"DIA OCOR INGR ÓRGÃO EV\",\n",
    "            \"AD TEMPO SERV\",\n",
    "            \"UORG\",\n",
    "        ]\n",
    "    ]\n",
    "    .drop_duplicates(\"CPF SERVIDOR\")\n",
    "    .set_index(\"CPF SERVIDOR\")\n",
    ")"
   ]
  },
  {
   "cell_type": "code",
   "execution_count": null,
   "metadata": {},
   "outputs": [],
   "source": [
    "# Filtra os dados de dependência do GEDEP para incluir apenas aqueles relacionados à saúde\n",
    "df_gedep_saude = df_gedep[\n",
    "    df_gedep[\"dsc_completo_tipo_dependencia\"].str.contains(\"Saúde\")\n",
    "]\n",
    "\n",
    "# Calcula a contagem de dependentes de saúde para cada CPF titular no GEDEP\n",
    "df_gedep_controle_saude_count = df_gedep_saude.groupby(\"num_cpf_titular\").size()\n",
    "\n",
    "# Realiza um merge dos dados do SIAPE com a contagem de dependentes de saúde do GEDEP\n",
    "df_siape_serv = df_siape_serv.merge(\n",
    "    df_gedep_controle_saude_count.rename(\"num_dependentes_saude\"),\n",
    "    how=\"left\",\n",
    "    left_index=True,\n",
    "    right_index=True,\n",
    ")\n",
    "\n",
    "# Adiciona uma coluna \"flag_dependente\" ao DataFrame do SIAPE indicando se o servidor possui dependentes de saúde\n",
    "df_siape_serv[\"flag_dependente\"] = df_siape_serv[\"num_dependentes_saude\"].apply(\n",
    "    lambda x: x > 0\n",
    ")"
   ]
  },
  {
   "cell_type": "code",
   "execution_count": null,
   "metadata": {},
   "outputs": [],
   "source": [
    "# Realiza um merge dos dados do SIAPE com o GECOPE com base no CPF do servidor\n",
    "df_siape_serv = (\n",
    "    df_siape_serv.reset_index()\n",
    "    .merge(\n",
    "        df_gecope,\n",
    "        how=\"left\",\n",
    "        left_on=\"CPF SERVIDOR\",\n",
    "        right_on=\"num_cpf_pessoa\",\n",
    "    )\n",
    "    .set_index(\"CPF SERVIDOR\")\n",
    ")"
   ]
  },
  {
   "cell_type": "code",
   "execution_count": null,
   "metadata": {},
   "outputs": [],
   "source": [
    "# Converte as colunas de datas \"DIA OCOR INGR ÓRGÃO EV\" e \"dat_promocao_servidor\" para objetos datetime\n",
    "df_siape_serv[\"DIA OCOR INGR ÓRGÃO EV\"] = pd.to_datetime(\n",
    "    df_siape_serv[\"DIA OCOR INGR ÓRGÃO EV\"],\n",
    "    format=\"%Y-%m-%d\",\n",
    ")\n",
    "df_siape_serv[\"dat_promocao_servidor\"] = pd.to_datetime(\n",
    "    df_siape_serv[\"dat_promocao_servidor\"],\n",
    "    format=\"%Y-%m-%d\",\n",
    ")"
   ]
  },
  {
   "cell_type": "code",
   "execution_count": null,
   "metadata": {},
   "outputs": [],
   "source": [
    "# Substitui valores na coluna \"dsc_posto_graduacao\" no DataFrame do SIAPE\n",
    "df_siape_serv = df_siape_serv.replace(\n",
    "    {\n",
    "        \"dsc_posto_graduacao\": {\n",
    "            \"TERCEIRO-SARGENTO\": \"TERCEIRO SARGENTO\",\n",
    "            \"SEGUNDO-SARGENTO\": \"SEGUNDO SARGENTO\",\n",
    "            \"PRIMEIRO-SARGENTO\": \"PRIMEIRO SARGENTO\",\n",
    "            \"CAPITÃO\": \"CAPITAO\",\n",
    "            \"ASPIRANTE-A-OFICIAL\": \"ASPIRANTE A OFICIAL\",\n",
    "            \"PRIMEIRO-TENENTE\": \"PRIMEIRO TENENTE\",\n",
    "            \"SEGUNDO-TENENTE\": \"SEGUNDO TENENTE\",\n",
    "            \"CADETE SEGUNDO ANO\": \"CADETE-ULTIMO ANO\",\n",
    "            \"CADETE PRIMEIRO ANO\": \"CADETE-DEMAIS ANOS\",\n",
    "        }\n",
    "    }\n",
    ")"
   ]
  },
  {
   "cell_type": "code",
   "execution_count": null,
   "metadata": {},
   "outputs": [],
   "source": [
    "# Merge dos dados do SIAPE com a base de GSV\n",
    "df_gsv_count = (\n",
    "    df_gsv[[\"cod_pessoa_servidor\", \"horas_presenca\"]]\n",
    "    .groupby(\"cod_pessoa_servidor\")\n",
    "    .sum()\n",
    ")\n",
    "\n",
    "# Calcula as horas totais do GSV e adiciona ao DataFrame do SIAPE\n",
    "df_gsv_count[\"HORAS GSV\"] = (\n",
    "    df_gsv_count[\"horas_presenca\"].dt.total_seconds() / 1800\n",
    ").fillna(0).astype(int) * 0.5\n",
    "\n",
    "df_siape_serv = (\n",
    "    df_siape_serv.reset_index()\n",
    "    .merge(\n",
    "        df_gsv_count[\"HORAS GSV\"],\n",
    "        how=\"left\",\n",
    "        left_on=\"cod_pessoa_servidor\",\n",
    "        right_index=True,\n",
    "    )\n",
    "    .set_index(\"CPF SERVIDOR\")\n",
    ")"
   ]
  },
  {
   "cell_type": "code",
   "execution_count": null,
   "metadata": {},
   "outputs": [],
   "source": [
    "# Cálculo dos valores esperados para Fundo de Saúde, Moradia e GSV\n",
    "df_siape_serv[\"VALOR ESPERADO FUNDO SAUDE DEP\"] = (\n",
    "    df_siape_serv.apply(\n",
    "        lambda x: df_tabela_remuneracao_atual.get(x[\"dsc_posto_graduacao\"], {}).get(\n",
    "            \"98036\", 0\n",
    "        )\n",
    "        * x[\"num_dependentes_saude\"],\n",
    "        axis=1,\n",
    "    )\n",
    "    * -1\n",
    ")\n",
    "\n",
    "df_siape_serv[\"VALOR ESPERADO MORADIA\"] = df_siape_serv.apply(\n",
    "    lambda x: df_tabela_remuneracao_atual.get(x[\"dsc_posto_graduacao\"], {}).get(\n",
    "        \"82135\" + (\"1\" if x[\"flag_dependente\"] else \"0\"), 0\n",
    "    ),\n",
    "    axis=1,\n",
    ")\n",
    "\n",
    "df_siape_serv[\"VALOR ESPERADO GSV\"] = df_siape_serv.apply(\n",
    "    lambda x: df_tabela_remuneracao_atual.get(x[\"dsc_posto_graduacao\"], {}).get(\n",
    "        \"82307\", 0\n",
    "    )\n",
    "    * x[\"HORAS GSV\"],\n",
    "    axis=1,\n",
    ")"
   ]
  },
  {
   "cell_type": "code",
   "execution_count": null,
   "metadata": {},
   "outputs": [],
   "source": [
    "df_gecope.head()"
   ]
  },
  {
   "cell_type": "code",
   "execution_count": null,
   "metadata": {},
   "outputs": [],
   "source": [
    "df_siape_serv.head()"
   ]
  },
  {
   "cell_type": "markdown",
   "metadata": {},
   "source": [
    "## 3. Leitura"
   ]
  },
  {
   "cell_type": "markdown",
   "metadata": {},
   "source": [
    "### 3.1 Abordagem geral: identificação de conformidade de valores com as bases corporativas "
   ]
  },
  {
   "cell_type": "code",
   "execution_count": null,
   "metadata": {},
   "outputs": [],
   "source": [
    "def verifica_rubricas(\n",
    "    condicao,\n",
    "    rubricas_array,\n",
    "    msg_err,\n",
    "    df_remun,\n",
    "    df_condition_reference=df_siape_serv,\n",
    "    column_condition_reference=\"num_cpf_pessoa\",\n",
    "    outlier=False,\n",
    "):\n",
    "    \"\"\"\n",
    "    Verifica se as rubricas associadas aos servidores atendem à condição fornecida.\n",
    "\n",
    "    Parâmetros:\n",
    "    - condicao (bool array): Condição para filtrar servidores no DataFrame df_serv.\n",
    "    - rubricas_array (list): Lista de triplas representando códigos de rubricas, sequências e prazos.\n",
    "    - msg_err (str, opcional): Mensagem de erro a ser atribuída quando o lançamento não estiver correto.\n",
    "    - df_remun (DataFrame, opcional): DataFrame contendo informações sobre remuneração.\n",
    "    - df_serv (DataFrame, opcional): DataFrame contendo informações sobre servidores.\n",
    "\n",
    "    Retorna:\n",
    "    DataFrame contendo as colunas 'LANCAMENTO APROVADO' e 'MOTIVO NAO APROVACAO'.\n",
    "    \"\"\"\n",
    "\n",
    "    condicoes_rubricas = np.logical_or.reduce(\n",
    "        [\n",
    "            (\n",
    "                (df_remun[\"COD RUBRICA\"].eq(int(cod)))\n",
    "                & (\n",
    "                    df_remun[\"SEQUENCIAL RUBRICA\"].eq(int(seq))\n",
    "                    if seq != \"\"\n",
    "                    else df_remun[\"SEQUENCIAL RUBRICA\"].any()\n",
    "                )\n",
    "                & (\n",
    "                    df_remun[\"PRAZO RUBRICA\"].eq(int(prazo))\n",
    "                    if prazo != \"\"\n",
    "                    else df_remun[\"PRAZO RUBRICA\"]\n",
    "                .any())\n",
    "            )\n",
    "            for cod, seq, prazo in rubricas_array\n",
    "        ]\n",
    "    )\n",
    "\n",
    "    df_siape_remun_temp = df_remun.loc[\n",
    "        df_siape_remun[\"LANCAMENTO APROVADO\"].isnull()\n",
    "    ]\n",
    "\n",
    "    reference = df_condition_reference[condicao][column_condition_reference]\n",
    "\n",
    "    if outlier:\n",
    "        df_siape_remun_temp.loc[\n",
    "            (\n",
    "                (df_siape_remun_temp[\"CPF SERVIDOR\"].isin(reference))\n",
    "                & (condicoes_rubricas)\n",
    "            ),\n",
    "            \"LANCAMENTO APROVADO\",\n",
    "        ] = False\n",
    "        df_siape_remun_temp.loc[\n",
    "            (\n",
    "                (df_siape_remun_temp[\"CPF SERVIDOR\"].isin(reference))\n",
    "                & (condicoes_rubricas)\n",
    "            ),\n",
    "            \"MOTIVO NAO APROVACAO\",\n",
    "        ] = msg_err\n",
    "        df_siape_remun_temp.loc[\n",
    "            (\n",
    "                (df_siape_remun_temp[\"CPF SERVIDOR\"].isin(reference))\n",
    "                & (condicoes_rubricas)\n",
    "            ),\n",
    "            \"OUTLIER IDENTIFICADO\",\n",
    "        ] = True\n",
    "    else:\n",
    "        df_siape_remun_temp.loc[\n",
    "            (\n",
    "                (df_siape_remun_temp[\"CPF SERVIDOR\"].isin(reference))\n",
    "                & (condicoes_rubricas)\n",
    "            ),\n",
    "            \"LANCAMENTO APROVADO\",\n",
    "        ] = True\n",
    "        df_siape_remun_temp.loc[\n",
    "            (\n",
    "                (~df_siape_remun_temp[\"CPF SERVIDOR\"].isin(reference))\n",
    "                & (condicoes_rubricas)\n",
    "            ),\n",
    "            \"LANCAMENTO APROVADO\",\n",
    "        ] = False\n",
    "        df_siape_remun_temp.loc[\n",
    "            (\n",
    "                (~df_siape_remun_temp[\"CPF SERVIDOR\"].isin(reference))\n",
    "                & (condicoes_rubricas)\n",
    "            ),\n",
    "            \"MOTIVO NAO APROVACAO\",\n",
    "        ] = msg_err\n",
    "    return df_siape_remun_temp[\n",
    "        [\"LANCAMENTO APROVADO\", \"MOTIVO NAO APROVACAO\", \"OUTLIER IDENTIFICADO\"]\n",
    "    ]"
   ]
  },
  {
   "cell_type": "code",
   "execution_count": null,
   "metadata": {},
   "outputs": [],
   "source": [
    "# Função para plotar gráficos de análise de lançamentos de remuneração\n",
    "def plot_remun(df):\n",
    "    \"\"\"\n",
    "    Gera um gráfico de barras para análise dos lançamentos de remuneração.\n",
    "\n",
    "    Parâmetros:\n",
    "    - df (DataFrame): O DataFrame contendo os dados de remuneração.\n",
    "\n",
    "    Retorna:\n",
    "    O gráfico de barras com a análise dos lançamentos de remuneração.\n",
    "    \"\"\"\n",
    "\n",
    "    # Criar uma cópia temporária com valores None substituídos\n",
    "    df_temp = df.copy()\n",
    "    df_temp[\"LANCAMENTO APROVADO\"] = df_temp[\"LANCAMENTO APROVADO\"].fillna(\n",
    "        \"Não Verificado\"\n",
    "    )\n",
    "    df_temp[\"LANCAMENTO APROVADO\"] = df_temp[\"LANCAMENTO APROVADO\"].replace(\n",
    "        True, \"Aprovado\"\n",
    "    )\n",
    "    df_temp[\"LANCAMENTO APROVADO\"] = df_temp[\"LANCAMENTO APROVADO\"].replace(\n",
    "        False, \"Não Aprovado\"\n",
    "    )\n",
    "\n",
    "    df_temp[\"MOTIVO NAO APROVACAO\"] = df_temp[\n",
    "        \"MOTIVO NAO APROVACAO\"\n",
    "    ].fillna(\"Não Verificado\")\n",
    "\n",
    "    # Criar subconjuntos para valores positivos e negativos\n",
    "    df_positivos = df_temp[df_temp[\"LIQUIDO\"] > 0]\n",
    "    df_negativos = df_temp[df_temp[\"LIQUIDO\"] < 0]\n",
    "\n",
    "    # Configurar o estilo do seaborn\n",
    "    sns.set_theme()\n",
    "\n",
    "    # Criar o gráfico usando seaborn\n",
    "    plt.figure(figsize=(12, 6))\n",
    "\n",
    "    # Gráfico 1 - barplot com contagem e soma\n",
    "    plt.subplot(121)\n",
    "\n",
    "    # Plotar barras para valores positivos\n",
    "    ax1 = sns.barplot(\n",
    "        df_positivos,\n",
    "        x=\"LANCAMENTO APROVADO\",\n",
    "        y=\"LIQUIDO\",\n",
    "        estimator=\"sum\",\n",
    "        palette=\"viridis\",\n",
    "        label=\"Positivos\",\n",
    "    )\n",
    "\n",
    "    # Plotar barras para valores negativos\n",
    "    ax2 = sns.barplot(\n",
    "        df_negativos,\n",
    "        x=\"LANCAMENTO APROVADO\",\n",
    "        y=\"LIQUIDO\",\n",
    "        estimator=\"sum\",\n",
    "        palette=\"rocket\",\n",
    "        label=\"Negativos\",\n",
    "    )\n",
    "\n",
    "    # Adicionar rótulos de soma abaixo das barras usando bar_label\n",
    "    for container in ax1.containers:\n",
    "        ax1.bar_label(container, fmt=\"R$ {:,.2f}\", label_type=\"edge\", padding=5)\n",
    "    # Esconder o eixo y\n",
    "    ax1.set(ylabel=None)\n",
    "    ax1.set(xlabel=None)\n",
    "    ax1.get_yaxis().set_visible(False)\n",
    "    ax1.set_xticklabels(ax1.get_xticklabels(), rotation=40, ha=\"right\", fontsize=9)\n",
    "\n",
    "    plt.title(\"Soma\")\n",
    "\n",
    "    # Gráfico 2 - barplot com contagem e soma\n",
    "    plt.subplot(122)\n",
    "    ax2 = sns.countplot(\n",
    "        df_temp, x=\"LANCAMENTO APROVADO\", palette=\"viridis\", legend=False\n",
    "    )\n",
    "\n",
    "    # Adicionar rótulos de soma abaixo das barras usando bar_label\n",
    "    for container in ax2.containers:\n",
    "        ax2.bar_label(container, fmt=\"{:,.0f}\", label_type=\"edge\", padding=5)\n",
    "    ax2.set(ylabel=None)\n",
    "    ax2.set(xlabel=None)\n",
    "    ax2.get_yaxis().set_visible(False)\n",
    "    ax2.set_xticklabels(ax2.get_xticklabels(), rotation=40, ha=\"right\", fontsize=9)\n",
    "\n",
    "    plt.title(\"Contagem\")\n",
    "\n",
    "    # Ajustar layout\n",
    "    plt.tight_layout()\n",
    "\n",
    "    # Exibir o gráfico\n",
    "    return plt.show()"
   ]
  },
  {
   "cell_type": "code",
   "execution_count": null,
   "metadata": {},
   "outputs": [],
   "source": [
    "# Cria uma cópia do DataFrame de remuneração para controle\n",
    "df_siape_remun_controle = df_siape_remun.copy()\n",
    "\n",
    "# Chama a função plot_remun para gerar visualizações relacionadas à remuneração\n",
    "plot_remun(df_siape_remun_controle)"
   ]
  },
  {
   "cell_type": "markdown",
   "metadata": {},
   "source": [
    "#### 3.1.1 Identificar se o Posto/Graduação cadastrado no SIAPE é o mesmo cadastrado no GECOPE"
   ]
  },
  {
   "cell_type": "code",
   "execution_count": null,
   "metadata": {},
   "outputs": [],
   "source": [
    "# Define a condição de igualdade entre os campos \"CARGO\" e \"dsc_posto_graduacao\"\n",
    "cond = df_siape_serv[\"CARGO\"] == df_siape_serv[\"dsc_posto_graduacao\"]\n",
    "\n",
    "# Lista de rubricas a serem verificadas\n",
    "rubricas_verificadas = [\n",
    "    (82001, 0, 0),\n",
    "    (82128, 0, 0),\n",
    "    (82134, 0, 0),\n",
    "    (82219, 0, 0),\n",
    "    (82220, 0, 0),\n",
    "    (82221, 0, 0),\n",
    "    (82225, 0, 0),\n",
    "    (82238, 0, 0),\n",
    "    (82254, 0, 0),\n",
    "    (82258, 0, 0),\n",
    "    (82264, 0, 0),\n",
    "    (82283, 0, 0),\n",
    "    (82284, 0, 0),\n",
    "    (82385, 0, 0),\n",
    "    (82386, 0, 0),\n",
    "    (82387, 0, 0),\n",
    "    (82729, 0, 0),\n",
    "    (82730, 0, 0),\n",
    "    (83071, 0, 0),\n",
    "    (98028, 0, 0),\n",
    "    (98035, 0, 0),\n",
    "]\n",
    "\n",
    "# Tipo de erro associado a rubricas com postos/graduações diferentes no SIAPE e GECOPE\n",
    "tipo_erro = \"Posto/Graduação no SIAPE diferente do GECOPE\""
   ]
  },
  {
   "cell_type": "code",
   "execution_count": null,
   "metadata": {},
   "outputs": [],
   "source": [
    "# Chama a função verifica_rubricas para realizar a verificação e atribui os resultados ao DataFrame de controle\n",
    "df_siape_remun_controle[\n",
    "    [\"LANCAMENTO APROVADO\", \"MOTIVO NAO APROVACAO\",\"OUTLIER IDENTIFICADO\"]\n",
    "] = verifica_rubricas(\n",
    "    cond, rubricas_verificadas, msg_err=tipo_erro, df_remun=df_siape_remun_controle\n",
    ")"
   ]
  },
  {
   "cell_type": "code",
   "execution_count": null,
   "metadata": {},
   "outputs": [],
   "source": [
    "# Chama a função plot_remun para gerar visualizações relacionadas à remuneração\n",
    "plot_remun(df_siape_remun_controle)"
   ]
  },
  {
   "cell_type": "markdown",
   "metadata": {},
   "source": [
    "#### 3.1.2 Identificar se o Fundo de Saúde Adicional está sendo pago conforme a quantidade de dependentes"
   ]
  },
  {
   "cell_type": "code",
   "execution_count": null,
   "metadata": {},
   "outputs": [],
   "source": [
    "# Alinhamento dos DataFrames df_siape_serv e df_siape_remun_temp com base no índice \"CPF SERVIDOR\"\n",
    "df_siape_serv, df_siape_remun_temp = df_siape_serv.align(\n",
    "    df_siape_remun_controle[\n",
    "        (df_siape_remun_controle[\"COD RUBRICA\"] == 98036)\n",
    "        & (df_siape_remun_controle[\"SEQUENCIAL RUBRICA\"] == 1)\n",
    "        & (df_siape_remun_controle[\"PRAZO RUBRICA\"] == 0)\n",
    "    ].set_index(\"CPF SERVIDOR\"),\n",
    "    join=\"left\",\n",
    "    axis=0,\n",
    ")\n",
    "\n",
    "# Condição para verificação de igualdade entre \"VALOR ESPERADO FUNDO SAUDE DEP\" e \"LIQUIDO\"\n",
    "cond = df_siape_serv[\"VALOR ESPERADO FUNDO SAUDE DEP\"] == df_siape_remun_temp[\"LIQUIDO\"]\n",
    "\n",
    "# Lista de rubricas a serem verificadas\n",
    "rubricas_verificadas = [\n",
    "    (98036, 1, 0),\n",
    "]\n",
    "\n",
    "# Tipo de erro associado à divergência nas rubricas\n",
    "tipo_erro = \"Fundo de Saúde Incompatível com Quantidade de Dependentes e/ou Graduação do GECOPE\""
   ]
  },
  {
   "cell_type": "code",
   "execution_count": null,
   "metadata": {},
   "outputs": [],
   "source": [
    "\n",
    "# Atualização das colunas \"LANCAMENTO APROVADO\" e \"MOTIVO NAO APROVACAO\" com base nas verificações\n",
    "df_siape_remun_controle[\n",
    "    [\"LANCAMENTO APROVADO\", \"MOTIVO NAO APROVACAO\",\"OUTLIER IDENTIFICADO\"]\n",
    "] = verifica_rubricas(\n",
    "    cond, rubricas_verificadas, msg_err=tipo_erro, df_remun=df_siape_remun_controle\n",
    ")"
   ]
  },
  {
   "cell_type": "code",
   "execution_count": null,
   "metadata": {},
   "outputs": [],
   "source": [
    "# Geração do gráfico para visualização das verificações\n",
    "plot_remun(df_siape_remun_controle)"
   ]
  },
  {
   "cell_type": "markdown",
   "metadata": {},
   "source": [
    "#### 3.1.3 Identificar se o Auxílio Moradia está de acordo com o Posto/Graduação e com a condição de dependência (Com Dependente / Sem Dependente)"
   ]
  },
  {
   "cell_type": "code",
   "execution_count": null,
   "metadata": {},
   "outputs": [],
   "source": [
    "# Alinha os DataFrames df_siape_serv e df_siape_remun_temp com base no índice \"CPF SERVIDOR\"\n",
    "df_siape_serv, df_siape_remun_temp = df_siape_serv.align(\n",
    "    df_siape_remun_controle[\n",
    "        (\n",
    "            (df_siape_remun_controle[\"COD RUBRICA\"] == 82135)\n",
    "            | (df_siape_remun_controle[\"COD RUBRICA\"] == 82228)\n",
    "        )\n",
    "        & (df_siape_remun_controle[\"SEQUENCIAL RUBRICA\"] == 1)\n",
    "        & (df_siape_remun_controle[\"PRAZO RUBRICA\"] == 0)\n",
    "    ].set_index(\"CPF SERVIDOR\"),\n",
    "    join=\"left\",\n",
    "    axis=0,\n",
    ")\n",
    "\n",
    "# Condição para verificação: VALOR ESPERADO MORADIA deve ser igual a LIQUIDO\n",
    "cond = df_siape_serv[\"VALOR ESPERADO MORADIA\"] == df_siape_remun_temp[\"LIQUIDO\"]\n",
    "\n",
    "# Lista de rubricas a serem verificadas e tipo de erro associado\n",
    "rubricas_verificadas = [(82135, 1, 0), (82228, 1, 0)]\n",
    "tipo_erro = (\n",
    "    \"Auxílio Moradia Incompatível com Condição de Dependência e/ou Graduação do GECOPE\"\n",
    ")"
   ]
  },
  {
   "cell_type": "code",
   "execution_count": null,
   "metadata": {},
   "outputs": [],
   "source": [
    "\n",
    "# Atualiza as colunas \"LANCAMENTO APROVADO\" e \"MOTIVO NAO APROVACAO\" no DataFrame df_siape_remun_controle\n",
    "df_siape_remun_controle[\n",
    "    [\"LANCAMENTO APROVADO\", \"MOTIVO NAO APROVACAO\",\"OUTLIER IDENTIFICADO\"]\n",
    "] = verifica_rubricas(\n",
    "    cond, rubricas_verificadas, msg_err=tipo_erro, df_remun=df_siape_remun_controle\n",
    ")"
   ]
  },
  {
   "cell_type": "code",
   "execution_count": null,
   "metadata": {},
   "outputs": [],
   "source": [
    "# Gera um gráfico para visualização das verificações\n",
    "plot_remun(df_siape_remun_controle)"
   ]
  },
  {
   "cell_type": "markdown",
   "metadata": {},
   "source": [
    "#### 3.1.4 Identificar se o Auxílio Alimentação está sendo pago para militares ativos ou inativos no PTTC"
   ]
  },
  {
   "cell_type": "code",
   "execution_count": null,
   "metadata": {},
   "outputs": [],
   "source": [
    "# Condição para verificação: Militar deve ser ativo (RMI-01: Ativo ou RMI-08: Cedido) \n",
    "cond = (\n",
    "    (df_siape_serv[\"SITUAÇÃO FUNCIONAL\"] == \"RMI-01\")\n",
    "    | (df_siape_serv[\"SITUAÇÃO FUNCIONAL\"] == \"RMI-08\")\n",
    ")\n",
    "\n",
    "# Lista de rubricas a serem verificadas e tipo de erro associado\n",
    "rubricas_verificadas = [(82011, 0, 0)]\n",
    "tipo_erro = \"Auxílio Alimentação incompatível com Status do Servidor\""
   ]
  },
  {
   "cell_type": "code",
   "execution_count": null,
   "metadata": {},
   "outputs": [],
   "source": [
    "\n",
    "# Atualiza as colunas \"LANCAMENTO APROVADO\" e \"MOTIVO NAO APROVACAO\" no DataFrame df_siape_remun_controle\n",
    "df_siape_remun_controle[\n",
    "    [\"LANCAMENTO APROVADO\", \"MOTIVO NAO APROVACAO\",\"OUTLIER IDENTIFICADO\"]\n",
    "] = verifica_rubricas(\n",
    "    cond, rubricas_verificadas, msg_err=tipo_erro, df_remun=df_siape_remun_controle\n",
    ")"
   ]
  },
  {
   "cell_type": "code",
   "execution_count": null,
   "metadata": {},
   "outputs": [],
   "source": [
    "# Condição para verificação: Militar deve ser Inativo (RMI-33: Reforma ou RMI-34 Reserva) estando no PTTC ([\"cod_controle_status_servidor_tipo\"] == 14)\n",
    "cond = (\n",
    "    (df_siape_serv[\"SITUAÇÃO FUNCIONAL\"] == \"RMI-33\")\n",
    "    | (df_siape_serv[\"SITUAÇÃO FUNCIONAL\"] == \"RMI-34\")\n",
    ") & (df_siape_serv[\"cod_situacao\"] == 9)\n",
    "\n",
    "# Lista de rubricas a serem verificadas e tipo de erro associado\n",
    "rubricas_verificadas = [(82011, 1, 0)]\n",
    "tipo_erro = \"Auxílio Alimentação incompatível com Status do Servidor\""
   ]
  },
  {
   "cell_type": "code",
   "execution_count": null,
   "metadata": {},
   "outputs": [],
   "source": [
    "# Atualiza as colunas \"LANCAMENTO APROVADO\" e \"MOTIVO NAO APROVACAO\" no DataFrame df_siape_remun_controle\n",
    "df_siape_remun_controle[\n",
    "    [\"LANCAMENTO APROVADO\", \"MOTIVO NAO APROVACAO\", \"OUTLIER IDENTIFICADO\"]\n",
    "] = verifica_rubricas(\n",
    "    cond, rubricas_verificadas, msg_err=tipo_erro, df_remun=df_siape_remun_controle\n",
    ")"
   ]
  },
  {
   "cell_type": "code",
   "execution_count": null,
   "metadata": {},
   "outputs": [],
   "source": [
    "# Gera um gráfico para visualização das verificações\n",
    "plot_remun(df_siape_remun_controle)"
   ]
  },
  {
   "cell_type": "markdown",
   "metadata": {},
   "source": [
    "#### 3.1.5 Identificar se a GSV está sendo paga conforme o horário efetivo de trabalho registrado na base de dados do CBMDF"
   ]
  },
  {
   "cell_type": "code",
   "execution_count": null,
   "metadata": {},
   "outputs": [],
   "source": [
    "# Alinhamento dos DataFrames df_siape_serv e df_siape_remun_controle com base em condições específicas\n",
    "df_siape_serv, df_siape_remun_temp = df_siape_serv.align(\n",
    "    df_siape_remun_controle[\n",
    "        (df_siape_remun_controle[\"COD RUBRICA\"] == 82307)\n",
    "        & (\n",
    "            (df_siape_remun_controle[\"SEQUENCIAL RUBRICA\"] == 1)\n",
    "            | (df_siape_remun_controle[\"SEQUENCIAL RUBRICA\"] == 1)\n",
    "        )\n",
    "        & (df_siape_remun_controle[\"PRAZO RUBRICA\"] == 1)\n",
    "    ].set_index(\"CPF SERVIDOR\"),\n",
    "    join=\"left\",\n",
    "    axis=0,\n",
    ")\n",
    "\n",
    "# Condição para verificação: VALOR ESPERADO GSV deve ser igual a LIQUIDO no DataFrame temporário\n",
    "cond = df_siape_serv[\"VALOR ESPERADO GSV\"] == df_siape_remun_temp[\"LIQUIDO\"]\n",
    "\n",
    "# Lista de rubricas a serem verificadas e tipo de erro associado\n",
    "rubricas_verificadas = [\n",
    "    (82307, \"\", 1),\n",
    "]\n",
    "tipo_erro = f\"GSV paga é incompatível com horas cumpridas entre os dias {DATA_REFERENCIA_INICIO_FOLHA} e {DATA_REFERENCIA_TERMINO_FOLHA}\""
   ]
  },
  {
   "cell_type": "code",
   "execution_count": null,
   "metadata": {},
   "outputs": [],
   "source": [
    "\n",
    "# Atualiza as colunas \"LANCAMENTO APROVADO\" e \"MOTIVO NAO APROVACAO\" no DataFrame df_siape_remun_controle\n",
    "df_siape_remun_controle[\n",
    "    [\"LANCAMENTO APROVADO\", \"MOTIVO NAO APROVACAO\",\"OUTLIER IDENTIFICADO\"]\n",
    "] = verifica_rubricas(\n",
    "    cond, rubricas_verificadas, msg_err=tipo_erro, df_remun=df_siape_remun_controle\n",
    ")"
   ]
  },
  {
   "cell_type": "code",
   "execution_count": null,
   "metadata": {},
   "outputs": [],
   "source": [
    "# Gera um gráfico para visualização das verificações\n",
    "plot_remun(df_siape_remun_controle)"
   ]
  },
  {
   "cell_type": "markdown",
   "metadata": {},
   "source": [
    "#### 3.1.6 Registrar necessidade de verificação manual dos pagamentos de Adicional de Certificação Profissional por não haver dados atualizados de capacitações nas base corporativa"
   ]
  },
  {
   "cell_type": "code",
   "execution_count": null,
   "metadata": {},
   "outputs": [],
   "source": [
    "# Inicialização de uma série de condições como Falso para cada índice em df_siape_serv\n",
    "cond = pd.Series(False, index=df_siape_serv.index)\n",
    "\n",
    "# Lista de rubricas a serem verificadas e tipo de erro associado\n",
    "rubricas_verificadas = [\n",
    "    (82235, \"\", \"\"),\n",
    "    (82236, \"\", \"\"),\n",
    "]\n",
    "tipo_erro = \"Base Corporativa sem dados atualizados de Certificação Profissional\""
   ]
  },
  {
   "cell_type": "code",
   "execution_count": null,
   "metadata": {},
   "outputs": [],
   "source": [
    "\n",
    "# Atualiza as colunas \"LANCAMENTO APROVADO\" e \"MOTIVO NAO APROVACAO\" no DataFrame df_siape_remun_controle\n",
    "df_siape_remun_controle[\n",
    "    [\"LANCAMENTO APROVADO\", \"MOTIVO NAO APROVACAO\",\"OUTLIER IDENTIFICADO\"]\n",
    "] = verifica_rubricas(\n",
    "    cond, rubricas_verificadas, msg_err=tipo_erro, df_remun=df_siape_remun_controle\n",
    ")"
   ]
  },
  {
   "cell_type": "code",
   "execution_count": null,
   "metadata": {},
   "outputs": [],
   "source": [
    "# Gera um gráfico para visualização das verificações\n",
    "plot_remun(df_siape_remun_controle)"
   ]
  },
  {
   "cell_type": "markdown",
   "metadata": {},
   "source": [
    "### 3.2 Abordagem pontual: identificação de outliers"
   ]
  },
  {
   "cell_type": "markdown",
   "metadata": {},
   "source": [
    "#### 3.2.1 Identificar se foi pago Auxílio Natalidade com prazo diferente de 1"
   ]
  },
  {
   "cell_type": "code",
   "execution_count": null,
   "metadata": {},
   "outputs": [],
   "source": [
    "# Inicialização de uma série de condições como Falso para cada índice em df_siape_serv\n",
    "cond = (\n",
    "    (df_siape_remun_controle[\"PRAZO RUBRICA\"]\n",
    "    != 1) & (df_siape_remun_controle[\"COD RUBRICA\"]\n",
    "    == 82265)\n",
    ")\n",
    "\n",
    "# Lista de rubricas a serem verificadas e tipo de erro associado\n",
    "rubricas_verificadas = [(82265, \"\", \"\")]\n",
    "tipo_erro = \"Auxílio Natalidade pago em mais de uma parcela\""
   ]
  },
  {
   "cell_type": "code",
   "execution_count": null,
   "metadata": {},
   "outputs": [],
   "source": [
    "\n",
    "# Atualiza as colunas \"LANCAMENTO APROVADO\" e \"MOTIVO NAO APROVACAO\" no DataFrame df_siape_remun_controle\n",
    "df_siape_remun_controle[\n",
    "    [\"LANCAMENTO APROVADO\", \"MOTIVO NAO APROVACAO\",\"OUTLIER IDENTIFICADO\"]\n",
    "] = verifica_rubricas(\n",
    "    cond, rubricas_verificadas, msg_err=tipo_erro, df_remun=df_siape_remun_controle, df_condition_reference=df_siape_remun_controle,column_condition_reference=\"CPF SERVIDOR\",outlier=True\n",
    ")"
   ]
  },
  {
   "cell_type": "code",
   "execution_count": null,
   "metadata": {},
   "outputs": [],
   "source": [
    "# Gera um gráfico para visualização das verificações\n",
    "plot_remun(df_siape_remun_controle)"
   ]
  },
  {
   "cell_type": "markdown",
   "metadata": {},
   "source": [
    "#### 3.2.2 Identificar se foi pago GSV com prazo diferente de 1"
   ]
  },
  {
   "cell_type": "code",
   "execution_count": null,
   "metadata": {},
   "outputs": [],
   "source": [
    "# Inicialização de uma série de condições como Falso para cada índice em df_siape_serv\n",
    "cond = (df_siape_remun_controle[\"PRAZO RUBRICA\"] != 1) & (\n",
    "    df_siape_remun_controle[\"COD RUBRICA\"] == 82307\n",
    ")\n",
    "\n",
    "# Lista de rubricas a serem verificadas e tipo de erro associado\n",
    "rubricas_verificadas = [(82307, \"\", \"\")]\n",
    "tipo_erro = \"GSV paga em mais de uma parcela\""
   ]
  },
  {
   "cell_type": "code",
   "execution_count": null,
   "metadata": {},
   "outputs": [],
   "source": [
    "\n",
    "# Atualiza as colunas \"LANCAMENTO APROVADO\" e \"MOTIVO NAO APROVACAO\" no DataFrame df_siape_remun_controle\n",
    "df_siape_remun_controle[\n",
    "    [\"LANCAMENTO APROVADO\", \"MOTIVO NAO APROVACAO\",\"OUTLIER IDENTIFICADO\"]\n",
    "] = verifica_rubricas(\n",
    "    cond, rubricas_verificadas, msg_err=tipo_erro, df_remun=df_siape_remun_controle, df_condition_reference=df_siape_remun_controle,column_condition_reference=\"CPF SERVIDOR\",outlier=True\n",
    ")"
   ]
  },
  {
   "cell_type": "code",
   "execution_count": null,
   "metadata": {},
   "outputs": [],
   "source": [
    "# Gera um gráfico para visualização das verificações\n",
    "plot_remun(df_siape_remun_controle)"
   ]
  },
  {
   "cell_type": "markdown",
   "metadata": {},
   "source": [
    "#### 3.2.3 Identificar se foi pago indenização por Transferência para RRm com prazo diferente de 1"
   ]
  },
  {
   "cell_type": "code",
   "execution_count": null,
   "metadata": {},
   "outputs": [],
   "source": [
    "# Inicialização de uma série de condições como Falso para cada índice em df_siape_serv\n",
    "cond = ((df_siape_remun_controle[\"PRAZO RUBRICA\"] != 1) & (\n",
    "    (df_siape_remun_controle[\"COD RUBRICA\"] == 82735)\n",
    "    | (df_siape_remun_controle[\"COD RUBRICA\"] == 505)\n",
    "    | (df_siape_remun_controle[\"COD RUBRICA\"] == 82266)\n",
    "))\n",
    "\n",
    "# Lista de rubricas a serem verificadas e tipo de erro associado\n",
    "rubricas_verificadas = [\n",
    "    (82735, \"\", \"\"),\n",
    "    (505, \"\", \"\"),\n",
    "    (82266, \"\", \"\"),\n",
    "]\n",
    "tipo_erro = \"Indenização por transferência para RRm paga em mais de uma parcela\""
   ]
  },
  {
   "cell_type": "code",
   "execution_count": null,
   "metadata": {},
   "outputs": [],
   "source": [
    "\n",
    "# Atualiza as colunas \"LANCAMENTO APROVADO\" e \"MOTIVO NAO APROVACAO\" no DataFrame df_siape_remun_controle\n",
    "df_siape_remun_controle[\n",
    "    [\"LANCAMENTO APROVADO\", \"MOTIVO NAO APROVACAO\",\"OUTLIER IDENTIFICADO\"]\n",
    "] = verifica_rubricas(\n",
    "    cond, rubricas_verificadas, msg_err=tipo_erro, df_remun=df_siape_remun_controle, df_condition_reference=df_siape_remun_controle,column_condition_reference=\"CPF SERVIDOR\",outlier=True\n",
    ")"
   ]
  },
  {
   "cell_type": "code",
   "execution_count": null,
   "metadata": {},
   "outputs": [],
   "source": [
    "# Gera um gráfico para visualização das verificações\n",
    "plot_remun(df_siape_remun_controle)"
   ]
  },
  {
   "cell_type": "code",
   "execution_count": null,
   "metadata": {},
   "outputs": [],
   "source": [
    "plot_remun(df_siape_remun_controle[df_siape_remun_controle[\"OUTLIER IDENTIFICADO\"]])"
   ]
  },
  {
   "cell_type": "markdown",
   "metadata": {},
   "source": [
    "### 3.3 Geração do Relatório de Controle de Folha"
   ]
  },
  {
   "cell_type": "code",
   "execution_count": null,
   "metadata": {},
   "outputs": [],
   "source": [
    "# Geração de arquivo .csv para complementação da verificação dos valores\n",
    "df_siape_remun_controle.to_csv(\n",
    "    f\"./relatorioMensal - {MES_REFERENCIA}.csv\",\n",
    "    sep=\";\",\n",
    "    encoding=\"iso-8859-1\",\n",
    "    decimal=\",\",\n",
    "    index=False,\n",
    ")"
   ]
  },
  {
   "cell_type": "code",
   "execution_count": null,
   "metadata": {},
   "outputs": [],
   "source": [
    "# Gráfico contendo resumo dos valores analisados\n",
    "plot_remun(\n",
    "    df_siape_remun_controle[\n",
    "        (df_siape_remun_controle[\"LANCAMENTO APROVADO\"] == True)\n",
    "        | (df_siape_remun_controle[\"LANCAMENTO APROVADO\"] == False)\n",
    "        | (df_siape_remun_controle[\"LANCAMENTO APROVADO\"].isnull())\n",
    "    ]\n",
    ")"
   ]
  },
  {
   "cell_type": "code",
   "execution_count": null,
   "metadata": {},
   "outputs": [],
   "source": []
  }
 ],
 "metadata": {
  "kernelspec": {
   "display_name": "Python 3",
   "language": "python",
   "name": "python3"
  },
  "language_info": {
   "codemirror_mode": {
    "name": "ipython",
    "version": 3
   },
   "file_extension": ".py",
   "mimetype": "text/x-python",
   "name": "python",
   "nbconvert_exporter": "python",
   "pygments_lexer": "ipython3",
   "version": "3.10.12"
  }
 },
 "nbformat": 4,
 "nbformat_minor": 4
}
